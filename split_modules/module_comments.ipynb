{
    "cells": [
        {
            "cell_type": "code",
            "execution_count": 345,
            "id": "9c09861c-58a5-4ae8-aca4-48c84958c43d",
            "metadata": {},
            "outputs": [],
            "source": [
                "#Module Comments"
            ]
        },
        {
            "cell_type": "code",
            "execution_count": 24,
            "id": "840d6e91-02c6-4049-af22-3bba8e100dad",
            "metadata": {},
            "outputs": [
                {
                    "name": "stdout",
                    "output_type": "stream",
                    "text": [
                        "Hello, World!\n"
                    ]
                }
            ],
            "source": [
                "#This is a comment\n",
                "print(\"Hello, World!\")"
            ]
        },
        {
            "cell_type": "code",
            "execution_count": 30,
            "id": "21ee51cc-a5d5-4e4f-91f1-223a3ebcda10",
            "metadata": {},
            "outputs": [
                {
                    "name": "stdout",
                    "output_type": "stream",
                    "text": [
                        "Cheers, Mate!\n"
                    ]
                }
            ],
            "source": [
                "#print(\"Hello, World!\")\n",
                "print(\"Cheers, Mate!\")"
            ]
        },
        {
            "cell_type": "code",
            "execution_count": 32,
            "id": "5abd7d8c-130d-4550-990d-12c1f2834f08",
            "metadata": {},
            "outputs": [
                {
                    "name": "stdout",
                    "output_type": "stream",
                    "text": [
                        "Hello, World!\n"
                    ]
                }
            ],
            "source": [
                "#This is a comment\n",
                "#written in\n",
                "#more than just one line\n",
                "print(\"Hello, World!\")"
            ]
        },
        {
            "cell_type": "code",
            "execution_count": 36,
            "id": "420be04f-82c3-4820-82f3-263fb6f858b8",
            "metadata": {},
            "outputs": [
                {
                    "name": "stdout",
                    "output_type": "stream",
                    "text": [
                        "Hello, World!\n"
                    ]
                }
            ],
            "source": [
                "\"\"\"\n",
                "This is a comment\n",
                "written in\n",
                "more t han just one line\n",
                "\"\"\"\n",
                "print(\"Hello, World!\")"
            ]
        }
    ],
    "metadata": {
        "kernelspec": {
            "display_name": "Python [conda env:base] *",
            "language": "python",
            "name": "conda-base-py"
        },
        "language_info": {
            "codemirror_mode": {
                "name": "ipython",
                "version": 3
            },
            "file_extension": ".py",
            "mimetype": "text/x-python",
            "name": "python",
            "nbconvert_exporter": "python",
            "pygments_lexer": "ipython3",
            "version": "3.12.7"
        }
    },
    "nbformat": 4,
    "nbformat_minor": 5
}