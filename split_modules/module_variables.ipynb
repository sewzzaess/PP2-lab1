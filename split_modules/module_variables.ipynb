{
    "cells": [
        {
            "cell_type": "code",
            "execution_count": 347,
            "id": "fa0e3224-0ecb-4550-ae63-9a38255071e7",
            "metadata": {},
            "outputs": [],
            "source": [
                "#Module Variables"
            ]
        },
        {
            "cell_type": "code",
            "execution_count": 38,
            "id": "a7a946cb-4237-43a0-a367-b24bf095f09b",
            "metadata": {},
            "outputs": [
                {
                    "name": "stdout",
                    "output_type": "stream",
                    "text": [
                        "5\n",
                        "John\n"
                    ]
                }
            ],
            "source": [
                "x = 5\n",
                "y = \"John\"\n",
                "print(x)\n",
                "print(y)"
            ]
        },
        {
            "cell_type": "code",
            "execution_count": 40,
            "id": "c1b27008-65bb-46c8-a526-acb159f15a9f",
            "metadata": {},
            "outputs": [
                {
                    "name": "stdout",
                    "output_type": "stream",
                    "text": [
                        "Sally\n"
                    ]
                }
            ],
            "source": [
                "x = 4\n",
                "x = \"Sally\"\n",
                "print(x)"
            ]
        },
        {
            "cell_type": "code",
            "execution_count": 46,
            "id": "9cc22b4c-16fd-4dd4-920f-3d74256145d4",
            "metadata": {},
            "outputs": [
                {
                    "name": "stdout",
                    "output_type": "stream",
                    "text": [
                        "3 3 3.0\n"
                    ]
                }
            ],
            "source": [
                "x = str(3)\n",
                "y = int(3)\n",
                "z = float(3)\n",
                "print(x,y,z)"
            ]
        },
        {
            "cell_type": "code",
            "execution_count": 66,
            "id": "75fcfad0-70e3-4a76-91bb-1bec9a95ff4e",
            "metadata": {},
            "outputs": [
                {
                    "name": "stdout",
                    "output_type": "stream",
                    "text": [
                        "<class 'int'>\n",
                        "<class 'str'>\n"
                    ]
                }
            ],
            "source": [
                "x = 5\n",
                "y = \"John\"\n",
                "print(type(x))\n",
                "print(type(y))"
            ]
        },
        {
            "cell_type": "code",
            "execution_count": 50,
            "id": "053ce4ae-e239-4ebc-9c1d-2cf835756dc2",
            "metadata": {},
            "outputs": [
                {
                    "name": "stdout",
                    "output_type": "stream",
                    "text": [
                        "4 Sally\n"
                    ]
                }
            ],
            "source": [
                "a = 4\n",
                "A = \"Sally\"\n",
                "#A will not overwrite a\n",
                "print(a,A)"
            ]
        },
        {
            "cell_type": "code",
            "execution_count": 52,
            "id": "473fe6af-0627-4904-9cf3-d2e55f6a5c84",
            "metadata": {},
            "outputs": [
                {
                    "name": "stdout",
                    "output_type": "stream",
                    "text": [
                        "John\n",
                        "John\n",
                        "John\n",
                        "John\n",
                        "John\n",
                        "John\n"
                    ]
                }
            ],
            "source": [
                "myvar = \"John\"\n",
                "my_var = \"John\"\n",
                "_my_var = \"John\"\n",
                "myVar = \"John\"\n",
                "MYVAR = \"John\"\n",
                "myvar2 = \"John\"\n",
                "\n",
                "\n",
                "print(myvar)\n",
                "print(my_var)\n",
                "print(_my_var)\n",
                "print(myVar)\n",
                "print(MYVAR)\n",
                "print(myvar2)"
            ]
        },
        {
            "cell_type": "code",
            "execution_count": 54,
            "id": "ac9795bf-414d-42fb-b192-d9094a945f04",
            "metadata": {},
            "outputs": [
                {
                    "ename": "SyntaxError",
                    "evalue": "invalid decimal literal (2185399839.py, line 1)",
                    "output_type": "error",
                    "traceback": [
                        "\u001b[1;36m  Cell \u001b[1;32mIn[54], line 1\u001b[1;36m\u001b[0m\n\u001b[1;33m    2myvar = \"John\"\u001b[0m\n\u001b[1;37m    ^\u001b[0m\n\u001b[1;31mSyntaxError\u001b[0m\u001b[1;31m:\u001b[0m invalid decimal literal\n"
                    ]
                }
            ],
            "source": [
                "2myvar = \"John\"\n",
                "my-var = \"John\"\n",
                "my var = \"John\""
            ]
        },
        {
            "cell_type": "markdown",
            "id": "fbcc067b-962c-4d03-b7b9-a2e16ee8e1ae",
            "metadata": {},
            "source": [
                "Camel Case"
            ]
        },
        {
            "cell_type": "code",
            "execution_count": 71,
            "id": "10f33acb-44af-4f42-8f7c-468cc6e4e13d",
            "metadata": {},
            "outputs": [
                {
                    "name": "stdout",
                    "output_type": "stream",
                    "text": [
                        "John\n"
                    ]
                }
            ],
            "source": [
                "myVariableName = \"John\"\n",
                "print(myVariableName)"
            ]
        },
        {
            "cell_type": "markdown",
            "id": "897157a1-5d72-43f6-801b-640a1f45d910",
            "metadata": {},
            "source": [
                "Pascal Case"
            ]
        },
        {
            "cell_type": "code",
            "execution_count": 84,
            "id": "b2b6a673-0160-436d-ab04-f56c9341cb76",
            "metadata": {},
            "outputs": [
                {
                    "name": "stdout",
                    "output_type": "stream",
                    "text": [
                        "John\n"
                    ]
                }
            ],
            "source": [
                "MyVariableName = \"John\"\n",
                "print(MyVariableName)"
            ]
        },
        {
            "cell_type": "markdown",
            "id": "80584dce-85ec-4085-ad64-3f3db858d37f",
            "metadata": {},
            "source": [
                "Snake Case"
            ]
        },
        {
            "cell_type": "code",
            "execution_count": 77,
            "id": "dface34c-d714-4c8c-b343-8bc5df09f5cb",
            "metadata": {},
            "outputs": [
                {
                    "name": "stdout",
                    "output_type": "stream",
                    "text": [
                        "John\n"
                    ]
                }
            ],
            "source": [
                "my_variable_name = \"John\"\n",
                "print(my_variable_name)"
            ]
        },
        {
            "cell_type": "code",
            "execution_count": 87,
            "id": "ea9aa3b3-c315-48b4-a8ba-e06a4b5f3356",
            "metadata": {},
            "outputs": [
                {
                    "name": "stdout",
                    "output_type": "stream",
                    "text": [
                        "Orange\n",
                        "Banana\n",
                        "Cherry\n"
                    ]
                }
            ],
            "source": [
                "x, y, z = \"Orange\", \"Banana\", \"Cherry\"\n",
                "print(x)\n",
                "print(y)\n",
                "print(z)"
            ]
        },
        {
            "cell_type": "code",
            "execution_count": 89,
            "id": "dabe57c3-3040-4fc9-892c-4bbfe81f1cbc",
            "metadata": {},
            "outputs": [
                {
                    "name": "stdout",
                    "output_type": "stream",
                    "text": [
                        "Orange Orange Orange\n"
                    ]
                }
            ],
            "source": [
                "x = y = z = \"Orange\"\n",
                "print(x,y,z)"
            ]
        },
        {
            "cell_type": "code",
            "execution_count": 95,
            "id": "9f84102b-44b1-4d89-a172-18cc68c5f974",
            "metadata": {},
            "outputs": [
                {
                    "name": "stdout",
                    "output_type": "stream",
                    "text": [
                        "apple\n",
                        "banana\n",
                        "cherry\n"
                    ]
                }
            ],
            "source": [
                "fruits = [\"apple\", \"banana\", \"cherry\"]\n",
                "x,y,z = fruits\n",
                "print(x)\n",
                "print(y)\n",
                "print(z)"
            ]
        },
        {
            "cell_type": "code",
            "execution_count": 97,
            "id": "52213fa2-bcb1-46bc-b439-cb4dcceb92dc",
            "metadata": {},
            "outputs": [
                {
                    "name": "stdout",
                    "output_type": "stream",
                    "text": [
                        "Python is awesome\n"
                    ]
                }
            ],
            "source": [
                "x = \"Python is awesome\"\n",
                "print(x)"
            ]
        },
        {
            "cell_type": "code",
            "execution_count": 99,
            "id": "7535de6e-1fe1-46ff-a966-c272828d688e",
            "metadata": {},
            "outputs": [
                {
                    "name": "stdout",
                    "output_type": "stream",
                    "text": [
                        "Python is awesome\n"
                    ]
                }
            ],
            "source": [
                "x = \"Python\"\n",
                "y = \"is\"\n",
                "z = \"awesome\"\n",
                "print(x, y, z)"
            ]
        },
        {
            "cell_type": "code",
            "execution_count": 101,
            "id": "f164e451-48d4-4155-a8c7-2824e4c8dead",
            "metadata": {},
            "outputs": [
                {
                    "name": "stdout",
                    "output_type": "stream",
                    "text": [
                        "Python is awesome\n"
                    ]
                }
            ],
            "source": [
                "x = \"Python \"\n",
                "y = \"is \"\n",
                "z = \"awesome\"\n",
                "print(x + y + z)"
            ]
        },
        {
            "cell_type": "code",
            "execution_count": 103,
            "id": "6d14a697-0368-41bc-85d6-f38c2b8b35bd",
            "metadata": {},
            "outputs": [
                {
                    "name": "stdout",
                    "output_type": "stream",
                    "text": [
                        "15\n"
                    ]
                }
            ],
            "source": [
                "x = 5\n",
                "y = 10\n",
                "print(x + y)"
            ]
        },
        {
            "cell_type": "code",
            "execution_count": 105,
            "id": "85989f18-3157-4fe3-9688-16a77216e57b",
            "metadata": {},
            "outputs": [
                {
                    "ename": "TypeError",
                    "evalue": "unsupported operand type(s) for +: 'int' and 'str'",
                    "output_type": "error",
                    "traceback": [
                        "\u001b[1;31m---------------------------------------------------------------------------\u001b[0m",
                        "\u001b[1;31mTypeError\u001b[0m                                 Traceback (most recent call last)",
                        "Cell \u001b[1;32mIn[105], line 3\u001b[0m\n\u001b[0;32m      1\u001b[0m x \u001b[38;5;241m=\u001b[39m \u001b[38;5;241m5\u001b[39m\n\u001b[0;32m      2\u001b[0m y \u001b[38;5;241m=\u001b[39m \u001b[38;5;124m\"\u001b[39m\u001b[38;5;124mJohn\u001b[39m\u001b[38;5;124m\"\u001b[39m\n\u001b[1;32m----> 3\u001b[0m \u001b[38;5;28mprint\u001b[39m(x \u001b[38;5;241m+\u001b[39m y)\n",
                        "\u001b[1;31mTypeError\u001b[0m: unsupported operand type(s) for +: 'int' and 'str'"
                    ]
                }
            ],
            "source": [
                "x = 5\n",
                "y = \"John\"\n",
                "print(x + y)"
            ]
        },
        {
            "cell_type": "code",
            "execution_count": 107,
            "id": "0a29e46c-fcac-4054-9bcf-63d05c644b68",
            "metadata": {},
            "outputs": [
                {
                    "name": "stdout",
                    "output_type": "stream",
                    "text": [
                        "5 John\n"
                    ]
                }
            ],
            "source": [
                "x = 5\n",
                "y = \"John\"\n",
                "print(x, y)"
            ]
        },
        {
            "cell_type": "code",
            "execution_count": 111,
            "id": "10f12303-8ecb-4853-afe9-1103d109c1a7",
            "metadata": {},
            "outputs": [
                {
                    "name": "stdout",
                    "output_type": "stream",
                    "text": [
                        "HelloWorld\n"
                    ]
                }
            ],
            "source": [
                "a = \"Hello\"\n",
                "b = \"World\"\n",
                "print(a + b)"
            ]
        },
        {
            "cell_type": "code",
            "execution_count": 113,
            "id": "5f82777a-282d-4e43-af7a-f129d4f0da49",
            "metadata": {},
            "outputs": [
                {
                    "name": "stdout",
                    "output_type": "stream",
                    "text": [
                        "Python is awesome\n"
                    ]
                }
            ],
            "source": [
                "x = \"awesome\"\n",
                "\n",
                "def myFunc():\n",
                "    print(\"Python is \" + x)\n",
                "\n",
                "myFunc()"
            ]
        },
        {
            "cell_type": "code",
            "execution_count": 115,
            "id": "466d9494-8d27-4e87-b697-f0ab85ecd0b0",
            "metadata": {},
            "outputs": [
                {
                    "name": "stdout",
                    "output_type": "stream",
                    "text": [
                        "Python is fantastic\n",
                        "Python is awesome\n"
                    ]
                }
            ],
            "source": [
                "x = \"awesome\"\n",
                "\n",
                "def myfunc():\n",
                "  x = \"fantastic\"\n",
                "  print(\"Python is \" + x)\n",
                "\n",
                "myfunc()\n",
                "\n",
                "print(\"Python is \" + x)"
            ]
        },
        {
            "cell_type": "code",
            "execution_count": 126,
            "id": "323fb4a1-ba18-41e0-95fd-24c3c1f24bfd",
            "metadata": {},
            "outputs": [
                {
                    "name": "stdout",
                    "output_type": "stream",
                    "text": [
                        "Python is fantastic\n"
                    ]
                }
            ],
            "source": [
                "def myfunc():\n",
                "  global x\n",
                "  x = \"fantastic\"\n",
                "\n",
                "myfunc()\n",
                "\n",
                "print(\"Python is \" + x)"
            ]
        },
        {
            "cell_type": "code",
            "execution_count": 132,
            "id": "210644a8-8fe5-463d-832f-e923d0e1dbb7",
            "metadata": {},
            "outputs": [
                {
                    "name": "stdout",
                    "output_type": "stream",
                    "text": [
                        "Python is fantastic\n"
                    ]
                }
            ],
            "source": [
                "x = \"awesome\"\n",
                "\n",
                "def myfunc():\n",
                "  global x\n",
                "  x = \"fantastic\"\n",
                "\n",
                "myfunc()\n",
                "\n",
                "print(\"Python is \" + x)"
            ]
        }
    ],
    "metadata": {
        "kernelspec": {
            "display_name": "Python [conda env:base] *",
            "language": "python",
            "name": "conda-base-py"
        },
        "language_info": {
            "codemirror_mode": {
                "name": "ipython",
                "version": 3
            },
            "file_extension": ".py",
            "mimetype": "text/x-python",
            "name": "python",
            "nbconvert_exporter": "python",
            "pygments_lexer": "ipython3",
            "version": "3.12.7"
        }
    },
    "nbformat": 4,
    "nbformat_minor": 5
}