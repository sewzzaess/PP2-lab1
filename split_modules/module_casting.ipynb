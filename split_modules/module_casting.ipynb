{
    "cells": [
        {
            "cell_type": "code",
            "execution_count": 357,
            "id": "0db8462f-4423-4ede-a81c-971698d9ab84",
            "metadata": {},
            "outputs": [],
            "source": [
                "#Module Casting"
            ]
        },
        {
            "cell_type": "markdown",
            "id": "3cad4d59-f17a-44e6-9c2b-79b1fcb6f035",
            "metadata": {},
            "source": [
                "Specify a Variable Type"
            ]
        },
        {
            "cell_type": "code",
            "execution_count": 208,
            "id": "15cc62ea-14b5-44a7-9ba9-419f58fe5aaa",
            "metadata": {},
            "outputs": [
                {
                    "name": "stdout",
                    "output_type": "stream",
                    "text": [
                        "1 2 3\n"
                    ]
                }
            ],
            "source": [
                "x = int(1)   \n",
                "y = int(2.8) \n",
                "z = int(\"3\") \n",
                "print(x,y,z)"
            ]
        },
        {
            "cell_type": "code",
            "execution_count": 210,
            "id": "1320c2ab-5cac-42de-97f8-073b97ff13fa",
            "metadata": {},
            "outputs": [
                {
                    "name": "stdout",
                    "output_type": "stream",
                    "text": [
                        "1.0 2.8 3.0 4.2\n"
                    ]
                }
            ],
            "source": [
                "x = float(1)    \n",
                "y = float(2.8)  \n",
                "z = float(\"3\")   \n",
                "w = float(\"4.2\")\n",
                "print(x,y,z,w)"
            ]
        },
        {
            "cell_type": "code",
            "execution_count": 212,
            "id": "0794fdf9-ae33-4828-99d8-5a036c43cbb6",
            "metadata": {},
            "outputs": [
                {
                    "name": "stdout",
                    "output_type": "stream",
                    "text": [
                        "s1 2 3.0\n"
                    ]
                }
            ],
            "source": [
                "x = str(\"s1\") \n",
                "y = str(2)   \n",
                "z = str(3.0) \n",
                "print(x,y,z)"
            ]
        }
    ],
    "metadata": {
        "kernelspec": {
            "display_name": "Python [conda env:base] *",
            "language": "python",
            "name": "conda-base-py"
        },
        "language_info": {
            "codemirror_mode": {
                "name": "ipython",
                "version": 3
            },
            "file_extension": ".py",
            "mimetype": "text/x-python",
            "name": "python",
            "nbconvert_exporter": "python",
            "pygments_lexer": "ipython3",
            "version": "3.12.7"
        }
    },
    "nbformat": 4,
    "nbformat_minor": 5
}