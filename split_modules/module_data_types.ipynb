{
    "cells": [
        {
            "cell_type": "code",
            "execution_count": 349,
            "id": "5e7dbb87-5930-400e-82ae-64855c9cb16c",
            "metadata": {},
            "outputs": [],
            "source": [
                "#Module Data Types"
            ]
        },
        {
            "cell_type": "code",
            "execution_count": 134,
            "id": "c0abd7ef-3ca2-4dc3-88ea-1c0f7a3611fd",
            "metadata": {},
            "outputs": [
                {
                    "name": "stdout",
                    "output_type": "stream",
                    "text": [
                        "<class 'int'>\n"
                    ]
                }
            ],
            "source": [
                "x = 5\n",
                "print(type(x))"
            ]
        },
        {
            "cell_type": "code",
            "execution_count": 144,
            "id": "bc27818c-83bd-4ef0-89d8-29c76bd88745",
            "metadata": {},
            "outputs": [
                {
                    "name": "stdout",
                    "output_type": "stream",
                    "text": [
                        "Hello World\n",
                        "<class 'str'>\n"
                    ]
                }
            ],
            "source": [
                "x = \"Hello World\"\n",
                "print(x)\n",
                "print(type(x))"
            ]
        },
        {
            "cell_type": "code",
            "execution_count": 146,
            "id": "36014700-5c41-490a-9ad5-03c134cfcc9f",
            "metadata": {},
            "outputs": [
                {
                    "name": "stdout",
                    "output_type": "stream",
                    "text": [
                        "20\n",
                        "<class 'int'>\n"
                    ]
                }
            ],
            "source": [
                "x = 20\n",
                "print(x)\n",
                "print(type(x))"
            ]
        },
        {
            "cell_type": "code",
            "execution_count": 150,
            "id": "f589e316-b847-4d22-b428-bd358a3fa0dc",
            "metadata": {},
            "outputs": [
                {
                    "name": "stdout",
                    "output_type": "stream",
                    "text": [
                        "20.5\n",
                        "<class 'float'>\n"
                    ]
                }
            ],
            "source": [
                "x = 20.5\n",
                "print(x)\n",
                "print(type(x))"
            ]
        },
        {
            "cell_type": "code",
            "execution_count": 152,
            "id": "8ea6be54-ce43-4c0d-a530-c0e57f2f393d",
            "metadata": {},
            "outputs": [
                {
                    "name": "stdout",
                    "output_type": "stream",
                    "text": [
                        "1j\n",
                        "<class 'complex'>\n"
                    ]
                }
            ],
            "source": [
                "x = 1j\n",
                "print(x)\n",
                "print(type(x))"
            ]
        },
        {
            "cell_type": "code",
            "execution_count": 154,
            "id": "0591e3bf-448e-461f-9418-c4cf22f46261",
            "metadata": {},
            "outputs": [
                {
                    "name": "stdout",
                    "output_type": "stream",
                    "text": [
                        "['apple', 'banana', 'cherry']\n",
                        "<class 'list'>\n"
                    ]
                }
            ],
            "source": [
                "x = [\"apple\", \"banana\", \"cherry\"]\n",
                "print(x)\n",
                "print(type(x))"
            ]
        },
        {
            "cell_type": "code",
            "execution_count": 156,
            "id": "7602d2e6-5a53-42ca-b212-68b908847653",
            "metadata": {},
            "outputs": [
                {
                    "name": "stdout",
                    "output_type": "stream",
                    "text": [
                        "('apple', 'banana', 'cherry')\n",
                        "<class 'tuple'>\n"
                    ]
                }
            ],
            "source": [
                "x = (\"apple\", \"banana\", \"cherry\")\n",
                "print(x)\n",
                "print(type(x))"
            ]
        },
        {
            "cell_type": "code",
            "execution_count": 158,
            "id": "d99822d9-0fab-421f-99e8-d7eb20c9e635",
            "metadata": {},
            "outputs": [
                {
                    "name": "stdout",
                    "output_type": "stream",
                    "text": [
                        "range(0, 6)\n",
                        "<class 'range'>\n"
                    ]
                }
            ],
            "source": [
                "x = range(6)\n",
                "print(x)\n",
                "print(type(x))"
            ]
        },
        {
            "cell_type": "code",
            "execution_count": 162,
            "id": "0fd37ecb-8e24-4bad-b7a5-c3df3061d661",
            "metadata": {},
            "outputs": [
                {
                    "name": "stdout",
                    "output_type": "stream",
                    "text": [
                        "{'name': 'John', 'age': '36'}\n",
                        "<class 'dict'>\n"
                    ]
                }
            ],
            "source": [
                "x = {\"name\" : \"John\", \"age\" : \"36\"}\n",
                "print(x)\n",
                "print(type(x))"
            ]
        },
        {
            "cell_type": "code",
            "execution_count": 164,
            "id": "1038a1db-58b8-45fd-9c61-d993c3ae2e71",
            "metadata": {},
            "outputs": [
                {
                    "name": "stdout",
                    "output_type": "stream",
                    "text": [
                        "{'apple', 'cherry', 'banana'}\n",
                        "<class 'set'>\n"
                    ]
                }
            ],
            "source": [
                "x = {\"apple\", \"banana\", \"cherry\"}\n",
                "print(x)\n",
                "print(type(x))"
            ]
        },
        {
            "cell_type": "code",
            "execution_count": 168,
            "id": "fc1ef037-cb65-472a-9813-e25f39b632ef",
            "metadata": {},
            "outputs": [
                {
                    "name": "stdout",
                    "output_type": "stream",
                    "text": [
                        "frozenset({'apple', 'cherry', 'banana'})\n",
                        "<class 'frozenset'>\n"
                    ]
                }
            ],
            "source": [
                "x = frozenset({\"apple\", \"banana\", \"cherry\"})\n",
                "print(x)\n",
                "print(type(x))"
            ]
        },
        {
            "cell_type": "code",
            "execution_count": 170,
            "id": "f4afb0f3-3db8-456b-a739-8ee302501c10",
            "metadata": {},
            "outputs": [
                {
                    "name": "stdout",
                    "output_type": "stream",
                    "text": [
                        "True\n",
                        "<class 'bool'>\n"
                    ]
                }
            ],
            "source": [
                "x = True\n",
                "print(x)\n",
                "print(type(x))"
            ]
        },
        {
            "cell_type": "code",
            "execution_count": 172,
            "id": "785f498d-9031-4c29-9a38-3109363cf554",
            "metadata": {},
            "outputs": [
                {
                    "name": "stdout",
                    "output_type": "stream",
                    "text": [
                        "b'Hello'\n",
                        "<class 'bytes'>\n"
                    ]
                }
            ],
            "source": [
                "x = b\"Hello\"\n",
                "print(x)\n",
                "print(type(x))"
            ]
        },
        {
            "cell_type": "code",
            "execution_count": 176,
            "id": "a9a734c7-be6d-4785-843f-4ff6b961315c",
            "metadata": {},
            "outputs": [
                {
                    "name": "stdout",
                    "output_type": "stream",
                    "text": [
                        "bytearray(b'\\x00\\x00\\x00\\x00\\x00')\n",
                        "<class 'bytearray'>\n"
                    ]
                }
            ],
            "source": [
                "x = bytearray(5)\n",
                "print(x)\n",
                "print(type(x))"
            ]
        },
        {
            "cell_type": "code",
            "execution_count": 178,
            "id": "f4bb592b-16c6-4b7c-a8e2-9373d59a1470",
            "metadata": {},
            "outputs": [
                {
                    "name": "stdout",
                    "output_type": "stream",
                    "text": [
                        "<memory at 0x0000025FE6266740>\n",
                        "<class 'memoryview'>\n"
                    ]
                }
            ],
            "source": [
                "x = memoryview(bytes(5))\n",
                "print(x)\n",
                "print(type(x))"
            ]
        },
        {
            "cell_type": "code",
            "execution_count": 180,
            "id": "3c73275b-56d1-421d-84b1-9ffaa3d8896d",
            "metadata": {},
            "outputs": [
                {
                    "name": "stdout",
                    "output_type": "stream",
                    "text": [
                        "None\n",
                        "<class 'NoneType'>\n"
                    ]
                }
            ],
            "source": [
                "x = None\n",
                "print(x)\n",
                "print(type(x))"
            ]
        }
    ],
    "metadata": {
        "kernelspec": {
            "display_name": "Python [conda env:base] *",
            "language": "python",
            "name": "conda-base-py"
        },
        "language_info": {
            "codemirror_mode": {
                "name": "ipython",
                "version": 3
            },
            "file_extension": ".py",
            "mimetype": "text/x-python",
            "name": "python",
            "nbconvert_exporter": "python",
            "pygments_lexer": "ipython3",
            "version": "3.12.7"
        }
    },
    "nbformat": 4,
    "nbformat_minor": 5
}