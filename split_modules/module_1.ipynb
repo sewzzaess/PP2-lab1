{
    "cells": [
        {
            "cell_type": "code",
            "execution_count": 342,
            "id": "7d648292-5f63-4be2-9253-ec3b2ee63554",
            "metadata": {},
            "outputs": [],
            "source": [
                "#Module Home - Syntax"
            ]
        },
        {
            "cell_type": "code",
            "execution_count": 16,
            "id": "bda5de6b-c58c-4793-8b88-2fc555f214a1",
            "metadata": {},
            "outputs": [
                {
                    "name": "stdout",
                    "output_type": "stream",
                    "text": [
                        "Hello, world!\n"
                    ]
                }
            ],
            "source": [
                "print(\"Hello, world!\")"
            ]
        },
        {
            "cell_type": "code",
            "execution_count": 14,
            "id": "034718ad-3007-4164-8e51-c5b359b78823",
            "metadata": {},
            "outputs": [
                {
                    "name": "stdout",
                    "output_type": "stream",
                    "text": [
                        "Five is greater than two!\n"
                    ]
                }
            ],
            "source": [
                "if 5 > 2:\n",
                "    print (\"Five is greater than two!\")"
            ]
        },
        {
            "cell_type": "code",
            "execution_count": 56,
            "id": "480ae4e7-36fe-4efb-9a97-83068e5262c3",
            "metadata": {},
            "outputs": [
                {
                    "ename": "IndentationError",
                    "evalue": "expected an indented block after 'if' statement on line 1 (3793329317.py, line 2)",
                    "output_type": "error",
                    "traceback": [
                        "\u001b[1;36m  Cell \u001b[1;32mIn[56], line 2\u001b[1;36m\u001b[0m\n\u001b[1;33m    print(\"Five is greater than two!\")\u001b[0m\n\u001b[1;37m    ^\u001b[0m\n\u001b[1;31mIndentationError\u001b[0m\u001b[1;31m:\u001b[0m expected an indented block after 'if' statement on line 1\n"
                    ]
                }
            ],
            "source": [
                "if 5 > 2:\n",
                "print(\"Five is greater than two!\")"
            ]
        },
        {
            "cell_type": "code",
            "execution_count": 60,
            "id": "066c71fd-e8c6-4cfb-8677-f71a9efa8e81",
            "metadata": {},
            "outputs": [
                {
                    "name": "stdout",
                    "output_type": "stream",
                    "text": [
                        "Five is greater than two!\n",
                        "Five is greater than two!\n"
                    ]
                }
            ],
            "source": [
                "if 5 > 2:\n",
                " print(\"Five is greater than two!\") \n",
                "if 5 > 2:\n",
                "        print(\"Five is greater than two!\") "
            ]
        },
        {
            "cell_type": "code",
            "execution_count": 62,
            "id": "e6924ddb-0438-413e-97dc-649bc425a05c",
            "metadata": {},
            "outputs": [
                {
                    "ename": "IndentationError",
                    "evalue": "unexpected indent (1240467842.py, line 3)",
                    "output_type": "error",
                    "traceback": [
                        "\u001b[1;36m  Cell \u001b[1;32mIn[62], line 3\u001b[1;36m\u001b[0m\n\u001b[1;33m    print(\"Five is greater than two!\")\u001b[0m\n\u001b[1;37m    ^\u001b[0m\n\u001b[1;31mIndentationError\u001b[0m\u001b[1;31m:\u001b[0m unexpected indent\n"
                    ]
                }
            ],
            "source": [
                "if 5 > 2:\n",
                " print(\"Five is greater than two!\")\n",
                "        print(\"Five is greater than two!\")\n"
            ]
        },
        {
            "cell_type": "code",
            "execution_count": 20,
            "id": "6e35d3d9-d89a-475e-b213-35d2019c3cf9",
            "metadata": {},
            "outputs": [
                {
                    "name": "stdout",
                    "output_type": "stream",
                    "text": [
                        "5 Hello, World!\n"
                    ]
                }
            ],
            "source": [
                "x = 5\n",
                "y = \"Hello, World!\"\n",
                "print(x,y)"
            ]
        }
    ],
    "metadata": {
        "kernelspec": {
            "display_name": "Python [conda env:base] *",
            "language": "python",
            "name": "conda-base-py"
        },
        "language_info": {
            "codemirror_mode": {
                "name": "ipython",
                "version": 3
            },
            "file_extension": ".py",
            "mimetype": "text/x-python",
            "name": "python",
            "nbconvert_exporter": "python",
            "pygments_lexer": "ipython3",
            "version": "3.12.7"
        }
    },
    "nbformat": 4,
    "nbformat_minor": 5
}