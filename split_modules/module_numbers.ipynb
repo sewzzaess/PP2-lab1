{
    "cells": [
        {
            "cell_type": "code",
            "execution_count": 355,
            "id": "6885676c-1cf1-4e90-9320-0f89fb1feda5",
            "metadata": {},
            "outputs": [],
            "source": [
                "#Module Numbers"
            ]
        },
        {
            "cell_type": "markdown",
            "id": "b8d29230-8451-4d66-8daf-275b37fb1992",
            "metadata": {},
            "source": [
                "Int"
            ]
        },
        {
            "cell_type": "code",
            "execution_count": 183,
            "id": "a0db2d27-3f0c-4b31-8313-9151945ae9f6",
            "metadata": {},
            "outputs": [
                {
                    "name": "stdout",
                    "output_type": "stream",
                    "text": [
                        "<class 'int'>\n",
                        "<class 'int'>\n",
                        "<class 'int'>\n"
                    ]
                }
            ],
            "source": [
                "x = 1\n",
                "y = 35656222554887711\n",
                "z = -3255522\n",
                "\n",
                "print(type(x))\n",
                "print(type(y))\n",
                "print(type(z))"
            ]
        },
        {
            "cell_type": "markdown",
            "id": "915a5c4b-cae8-4f8e-a669-bd34b6056142",
            "metadata": {},
            "source": [
                "Float"
            ]
        },
        {
            "cell_type": "code",
            "execution_count": 186,
            "id": "89bd2071-2ba1-4620-a5a0-496e5b2e27c0",
            "metadata": {},
            "outputs": [
                {
                    "name": "stdout",
                    "output_type": "stream",
                    "text": [
                        "<class 'float'>\n",
                        "<class 'float'>\n",
                        "<class 'float'>\n"
                    ]
                }
            ],
            "source": [
                "x = 1.10\n",
                "y = 1.0\n",
                "z = -35.59\n",
                "\n",
                "print(type(x))\n",
                "print(type(y))\n",
                "print(type(z))"
            ]
        },
        {
            "cell_type": "code",
            "execution_count": 188,
            "id": "870fd78b-aa23-46a3-b0e8-b1e46d09a20f",
            "metadata": {},
            "outputs": [
                {
                    "name": "stdout",
                    "output_type": "stream",
                    "text": [
                        "<class 'float'>\n",
                        "<class 'float'>\n",
                        "<class 'float'>\n"
                    ]
                }
            ],
            "source": [
                "x = 35e3\n",
                "y = 12E4\n",
                "z = -87.7e100\n",
                "\n",
                "print(type(x))\n",
                "print(type(y))\n",
                "print(type(z))"
            ]
        },
        {
            "cell_type": "markdown",
            "id": "40ad005f-45da-4876-a55d-ce20391459b9",
            "metadata": {},
            "source": [
                "Complex"
            ]
        },
        {
            "cell_type": "code",
            "execution_count": 191,
            "id": "4c37c08e-d71c-4090-b4ef-3561434faeca",
            "metadata": {},
            "outputs": [
                {
                    "name": "stdout",
                    "output_type": "stream",
                    "text": [
                        "<class 'complex'>\n",
                        "<class 'complex'>\n",
                        "<class 'complex'>\n"
                    ]
                }
            ],
            "source": [
                "x = 3+5j\n",
                "y = 5j\n",
                "z = -5j\n",
                "\n",
                "print(type(x))\n",
                "print(type(y))\n",
                "print(type(z))"
            ]
        },
        {
            "cell_type": "markdown",
            "id": "68176f5f-1ff5-4dd6-883b-5459463bf2a0",
            "metadata": {},
            "source": [
                "Type Conversion"
            ]
        },
        {
            "cell_type": "code",
            "execution_count": 194,
            "id": "01771ebd-35df-4e54-8b9a-22af385f5651",
            "metadata": {},
            "outputs": [
                {
                    "name": "stdout",
                    "output_type": "stream",
                    "text": [
                        "1.0\n",
                        "2\n",
                        "(1+0j)\n",
                        "<class 'float'>\n",
                        "<class 'int'>\n",
                        "<class 'complex'>\n"
                    ]
                }
            ],
            "source": [
                "x = 1\n",
                "y = 2.8\n",
                "z = 1j\n",
                "\n",
                "a = float(x)\n",
                "b = int(y)\n",
                "c = complex(x)\n",
                "\n",
                "print(a)\n",
                "print(b)\n",
                "print(c)\n",
                "\n",
                "print(type(a))\n",
                "print(type(b))\n",
                "print(type(c))"
            ]
        },
        {
            "cell_type": "markdown",
            "id": "23408481-d40d-4332-bc2f-85bd9ceca13d",
            "metadata": {},
            "source": [
                "Random Number"
            ]
        },
        {
            "cell_type": "code",
            "execution_count": 199,
            "id": "b8d25bc7-fefa-4c13-b699-e89aac7d7409",
            "metadata": {},
            "outputs": [
                {
                    "name": "stdout",
                    "output_type": "stream",
                    "text": [
                        "2\n"
                    ]
                }
            ],
            "source": [
                "import random\n",
                "\n",
                "print(random.randrange(1,10))"
            ]
        }
    ],
    "metadata": {
        "kernelspec": {
            "display_name": "Python [conda env:base] *",
            "language": "python",
            "name": "conda-base-py"
        },
        "language_info": {
            "codemirror_mode": {
                "name": "ipython",
                "version": 3
            },
            "file_extension": ".py",
            "mimetype": "text/x-python",
            "name": "python",
            "nbconvert_exporter": "python",
            "pygments_lexer": "ipython3",
            "version": "3.12.7"
        }
    },
    "nbformat": 4,
    "nbformat_minor": 5
}