{
 "cells": [
  {
   "cell_type": "code",
   "execution_count": 359,
   "id": "22aeb64c-7042-4e4d-b8b8-350e17881e65",
   "metadata": {},
   "outputs": [],
   "source": [
    "#Module Strings"
   ]
  },
  {
   "cell_type": "markdown",
   "id": "40ddb0c1-6360-4594-a95b-4bc1862a32b5",
   "metadata": {},
   "source": [
    "Strings\n"
   ]
  },
  {
   "cell_type": "code",
   "execution_count": 215,
   "id": "70aae322-bc1e-40a5-8f6e-d2f884244cb8",
   "metadata": {},
   "outputs": [
    {
     "name": "stdout",
     "output_type": "stream",
     "text": [
      "Hello\n",
      "Hello\n"
     ]
    }
   ],
   "source": [
    "print(\"Hello\")\n",
    "print('Hello')"
   ]
  },
  {
   "cell_type": "markdown",
   "id": "e450ecae-970b-4458-81dc-b28e8da2e578",
   "metadata": {},
   "source": [
    "Quotes Inside Quotes"
   ]
  },
  {
   "cell_type": "code",
   "execution_count": 218,
   "id": "b186dadc-059a-4c31-87fc-5906be5b169b",
   "metadata": {},
   "outputs": [
    {
     "name": "stdout",
     "output_type": "stream",
     "text": [
      "It's alright\n",
      "He is called 'Johnny'\n",
      "He is called \"Johnny\"\n"
     ]
    }
   ],
   "source": [
    "print(\"It's alright\")\n",
    "print(\"He is called 'Johnny'\")\n",
    "print('He is called \"Johnny\"')"
   ]
  },
  {
   "cell_type": "markdown",
   "id": "ffb8d322-23f9-4e61-85c3-9b79a06e861c",
   "metadata": {},
   "source": [
    "Assign String to a Variable"
   ]
  },
  {
   "cell_type": "code",
   "execution_count": 223,
   "id": "12f19a8e-166b-4333-a19a-37260e78f606",
   "metadata": {},
   "outputs": [
    {
     "name": "stdout",
     "output_type": "stream",
     "text": [
      "Hello\n"
     ]
    }
   ],
   "source": [
    "a = \"Hello\"\n",
    "print(a)"
   ]
  },
  {
   "cell_type": "markdown",
   "id": "1f27b118-5137-4fe3-a660-c00e40913c66",
   "metadata": {},
   "source": [
    "Multiline Strings"
   ]
  },
  {
   "cell_type": "code",
   "execution_count": 226,
   "id": "4a4e993c-114e-416d-b696-8246821c74ec",
   "metadata": {},
   "outputs": [
    {
     "name": "stdout",
     "output_type": "stream",
     "text": [
      "Lorem ipsum dolor sit amet,\n",
      "consectetur adipiscing elit,\n",
      "sed do eiusmod tempor incididunt\n",
      "ut labore et dolore magna aliqua.\n"
     ]
    }
   ],
   "source": [
    "a = \"\"\"Lorem ipsum dolor sit amet,\n",
    "consectetur adipiscing elit,\n",
    "sed do eiusmod tempor incididunt\n",
    "ut labore et dolore magna aliqua.\"\"\"\n",
    "print(a)"
   ]
  },
  {
   "cell_type": "markdown",
   "id": "e14eaaa8-3b13-48a9-b884-7ded471e086b",
   "metadata": {},
   "source": [
    "Strings are Arrays"
   ]
  },
  {
   "cell_type": "code",
   "execution_count": 236,
   "id": "915efbc5-1c6c-407d-8c65-4fede9cdfe32",
   "metadata": {},
   "outputs": [
    {
     "name": "stdout",
     "output_type": "stream",
     "text": [
      "e\n"
     ]
    }
   ],
   "source": [
    "a = \"Hello, World!\"\n",
    "print(a[1])"
   ]
  },
  {
   "cell_type": "markdown",
   "id": "26e7d18f-03b7-4b07-b15b-737a9393f524",
   "metadata": {},
   "source": [
    "Looping Through a String"
   ]
  },
  {
   "cell_type": "code",
   "execution_count": 239,
   "id": "d7bc5e6a-a369-4d9b-909d-da6b0e87f909",
   "metadata": {},
   "outputs": [
    {
     "name": "stdout",
     "output_type": "stream",
     "text": [
      "b\n",
      "a\n",
      "n\n",
      "a\n",
      "n\n",
      "a\n"
     ]
    }
   ],
   "source": [
    "for x in \"banana\":\n",
    "  print(x)"
   ]
  },
  {
   "cell_type": "markdown",
   "id": "f0598690-200c-40a6-910c-45628b00faba",
   "metadata": {},
   "source": [
    "String Length"
   ]
  },
  {
   "cell_type": "code",
   "execution_count": 242,
   "id": "6e9d7d40-6e41-424f-9a23-51692b816258",
   "metadata": {},
   "outputs": [
    {
     "name": "stdout",
     "output_type": "stream",
     "text": [
      "13\n"
     ]
    }
   ],
   "source": [
    "a = \"Hello, World!\"\n",
    "print(len(a))"
   ]
  },
  {
   "cell_type": "markdown",
   "id": "5e1db5c4-3423-46fd-a912-4bba1a116a9d",
   "metadata": {},
   "source": [
    "Check String\n"
   ]
  },
  {
   "cell_type": "code",
   "execution_count": 245,
   "id": "3528169a-3838-4b8c-bb85-d7e80ddcbac7",
   "metadata": {},
   "outputs": [
    {
     "name": "stdout",
     "output_type": "stream",
     "text": [
      "True\n"
     ]
    }
   ],
   "source": [
    "txt = \"The nest things in life are free!\"\n",
    "print(\"free\" in txt)"
   ]
  },
  {
   "cell_type": "code",
   "execution_count": 247,
   "id": "1b2f2368-c32e-490f-b27b-23643032777c",
   "metadata": {},
   "outputs": [
    {
     "name": "stdout",
     "output_type": "stream",
     "text": [
      "Yes, 'free' is present\n"
     ]
    }
   ],
   "source": [
    "txt = \"The best things in life are free!\"\n",
    "if \"free\" in txt:\n",
    "    print(\"Yes, 'free' is present\")"
   ]
  },
  {
   "cell_type": "markdown",
   "id": "acbef91f-b15b-4c8d-96ad-91903dfafa1e",
   "metadata": {},
   "source": [
    "Check if NOT"
   ]
  },
  {
   "cell_type": "code",
   "execution_count": 250,
   "id": "8186e574-6f32-467d-8b4b-9881eb370a15",
   "metadata": {},
   "outputs": [
    {
     "name": "stdout",
     "output_type": "stream",
     "text": [
      "True\n"
     ]
    }
   ],
   "source": [
    "txt = \"The best things in life are free!\"\n",
    "print(\"expensive\" not in txt)"
   ]
  },
  {
   "cell_type": "code",
   "execution_count": 256,
   "id": "a8ba70b5-a761-4295-b10c-6bd668d0700f",
   "metadata": {},
   "outputs": [
    {
     "name": "stdout",
     "output_type": "stream",
     "text": [
      "No, 'expensive' is NOT present.\n"
     ]
    }
   ],
   "source": [
    "txt = \"The best things in life are free!\"\n",
    "if \"expensive\" not in txt:\n",
    "    print(\"No, 'expensive' is NOT present.\")"
   ]
  },
  {
   "cell_type": "markdown",
   "id": "5b8853c4-2818-423c-a5af-60f9c337c113",
   "metadata": {},
   "source": [
    "Slicing Strings"
   ]
  },
  {
   "cell_type": "code",
   "execution_count": 260,
   "id": "c4c73fb4-547f-420e-9690-0a06771e43b0",
   "metadata": {},
   "outputs": [
    {
     "name": "stdout",
     "output_type": "stream",
     "text": [
      "llo\n"
     ]
    }
   ],
   "source": [
    "b = \"Hello, World!\"\n",
    "print(b[2:5])"
   ]
  },
  {
   "cell_type": "code",
   "execution_count": 262,
   "id": "e3a3208c-766f-4007-98ed-10ec093b9ea3",
   "metadata": {},
   "outputs": [
    {
     "name": "stdout",
     "output_type": "stream",
     "text": [
      "Hello\n"
     ]
    }
   ],
   "source": [
    "b = \"Hello, World!\"\n",
    "print(b[:5])"
   ]
  },
  {
   "cell_type": "markdown",
   "id": "acbf191c-38f7-4a32-b788-38fed53fba64",
   "metadata": {},
   "source": [
    "Slice To the End"
   ]
  },
  {
   "cell_type": "code",
   "execution_count": 265,
   "id": "3e97dc03-767d-4b1e-b37c-ed7f37a34132",
   "metadata": {},
   "outputs": [
    {
     "name": "stdout",
     "output_type": "stream",
     "text": [
      "llo, World1\n"
     ]
    }
   ],
   "source": [
    "b = \"Hello, World1\"\n",
    "print(b[2:])"
   ]
  },
  {
   "cell_type": "code",
   "execution_count": 267,
   "id": "54096666-6405-45ae-b9a0-a8cd09add9ed",
   "metadata": {},
   "outputs": [
    {
     "name": "stdout",
     "output_type": "stream",
     "text": [
      "orl\n"
     ]
    }
   ],
   "source": [
    "b = \"Hello, World!\"\n",
    "print(b[-5:-2])"
   ]
  },
  {
   "cell_type": "code",
   "execution_count": 269,
   "id": "01fb9710-9f92-4a38-bdc4-65848e5ca078",
   "metadata": {},
   "outputs": [
    {
     "name": "stdout",
     "output_type": "stream",
     "text": [
      "co\n"
     ]
    }
   ],
   "source": [
    "x = 'Welcome'\n",
    "print(x[3:5])"
   ]
  },
  {
   "cell_type": "code",
   "execution_count": 273,
   "id": "78845bab-b5ab-4bc8-b51b-0130e8771952",
   "metadata": {},
   "outputs": [
    {
     "name": "stdout",
     "output_type": "stream",
     "text": [
      "llo\n"
     ]
    }
   ],
   "source": [
    "txt = \"Hello World\"\n",
    "x = txt[2:5]\n",
    "print(x)\n"
   ]
  },
  {
   "cell_type": "markdown",
   "id": "e51045c0-15ef-4be4-a162-d2014ee8d60d",
   "metadata": {},
   "source": [
    "Upper Case"
   ]
  },
  {
   "cell_type": "code",
   "execution_count": 282,
   "id": "ce63c611-83c9-4e82-98f7-530bed555334",
   "metadata": {},
   "outputs": [
    {
     "name": "stdout",
     "output_type": "stream",
     "text": [
      "HELLO, WORLD!\n"
     ]
    }
   ],
   "source": [
    "a = \"Hello, World!\"\n",
    "print(a.upper())"
   ]
  },
  {
   "cell_type": "markdown",
   "id": "8a5ad4a6-17c1-4018-b058-a7a40a230cee",
   "metadata": {},
   "source": [
    "Lower Case"
   ]
  },
  {
   "cell_type": "code",
   "execution_count": 285,
   "id": "26ad3111-46ec-4805-b39c-994421475f72",
   "metadata": {},
   "outputs": [
    {
     "name": "stdout",
     "output_type": "stream",
     "text": [
      "hello, world!\n"
     ]
    }
   ],
   "source": [
    "a = \"Hello, World!\"\n",
    "print(a.lower())"
   ]
  },
  {
   "cell_type": "markdown",
   "id": "99a873c2-9baa-41d9-a76c-381b63b0d978",
   "metadata": {},
   "source": [
    "Remove Whitespaces\n"
   ]
  },
  {
   "cell_type": "code",
   "execution_count": 294,
   "id": "ce9a4ca5-ac9d-46b7-a28f-16241d53cf72",
   "metadata": {},
   "outputs": [
    {
     "name": "stdout",
     "output_type": "stream",
     "text": [
      "Hello, World!\n"
     ]
    }
   ],
   "source": [
    "a =  \"Hello, World! \"\n",
    "print(a.strip())  # returns \"Hello, World!\""
   ]
  },
  {
   "cell_type": "markdown",
   "id": "545dafc7-0bfb-4e93-b2f0-078aeef19aa6",
   "metadata": {},
   "source": [
    "Replace String"
   ]
  },
  {
   "cell_type": "code",
   "execution_count": 302,
   "id": "55b25566-a5c8-472b-ba8d-a175e882554a",
   "metadata": {},
   "outputs": [
    {
     "name": "stdout",
     "output_type": "stream",
     "text": [
      "Jello, World!\n"
     ]
    }
   ],
   "source": [
    "a = \"Hello, World!\"\n",
    "print(a.replace(\"H\", \"J\"))"
   ]
  },
  {
   "cell_type": "markdown",
   "id": "dfca173d-300b-4c43-a8be-97ac1d80522c",
   "metadata": {},
   "source": [
    "Split String"
   ]
  },
  {
   "cell_type": "code",
   "execution_count": 316,
   "id": "5f387ddf-943d-42fd-86a6-42f47c37c225",
   "metadata": {},
   "outputs": [
    {
     "name": "stdout",
     "output_type": "stream",
     "text": [
      "['Hello', ' World!']\n"
     ]
    }
   ],
   "source": [
    "a = \"Hello, World!\"\n",
    "print(a.split(\",\"))"
   ]
  },
  {
   "cell_type": "markdown",
   "id": "81f56e42-fd4a-4255-9320-60df3277d73d",
   "metadata": {},
   "source": [
    "String Concatenation\n"
   ]
  },
  {
   "cell_type": "code",
   "execution_count": 319,
   "id": "8d059c62-a468-41d8-9f72-ad8e725279bf",
   "metadata": {},
   "outputs": [
    {
     "name": "stdout",
     "output_type": "stream",
     "text": [
      "HelloWorld\n"
     ]
    }
   ],
   "source": [
    "a = \"Hello\"\n",
    "b = \"World\"\n",
    "c = a + b\n",
    "print(c)"
   ]
  },
  {
   "cell_type": "code",
   "execution_count": 321,
   "id": "11e2ca7d-91a2-402d-acfc-b4cd079af38d",
   "metadata": {},
   "outputs": [
    {
     "name": "stdout",
     "output_type": "stream",
     "text": [
      "Hello World\n"
     ]
    }
   ],
   "source": [
    "a = \"Hello\"\n",
    "b = \"World\"\n",
    "c = a + \" \" + b\n",
    "print(c)"
   ]
  },
  {
   "cell_type": "markdown",
   "id": "cba0ebf4-499b-435e-8fd2-3eb0ed38f285",
   "metadata": {},
   "source": [
    "String Format\n"
   ]
  },
  {
   "cell_type": "code",
   "execution_count": 324,
   "id": "f49c75af-1cf6-4d7a-adce-99f4681f7761",
   "metadata": {},
   "outputs": [
    {
     "ename": "TypeError",
     "evalue": "can only concatenate str (not \"int\") to str",
     "output_type": "error",
     "traceback": [
      "\u001b[1;31m---------------------------------------------------------------------------\u001b[0m",
      "\u001b[1;31mTypeError\u001b[0m                                 Traceback (most recent call last)",
      "Cell \u001b[1;32mIn[324], line 2\u001b[0m\n\u001b[0;32m      1\u001b[0m age \u001b[38;5;241m=\u001b[39m \u001b[38;5;241m36\u001b[39m\n\u001b[1;32m----> 2\u001b[0m txt \u001b[38;5;241m=\u001b[39m \u001b[38;5;124m\"\u001b[39m\u001b[38;5;124mMy name is John, I am \u001b[39m\u001b[38;5;124m\"\u001b[39m \u001b[38;5;241m+\u001b[39m \u001b[38;5;241m36\u001b[39m\n\u001b[0;32m      3\u001b[0m \u001b[38;5;28mprint\u001b[39m(txt)\n",
      "\u001b[1;31mTypeError\u001b[0m: can only concatenate str (not \"int\") to str"
     ]
    }
   ],
   "source": [
    "age = 36\n",
    "txt = \"My name is John, I am \" + 36\n",
    "print(txt)"
   ]
  },
  {
   "cell_type": "markdown",
   "id": "4bc45154-ede8-4e93-bc2a-c454b3486d82",
   "metadata": {},
   "source": [
    "F-Strings"
   ]
  },
  {
   "cell_type": "code",
   "execution_count": 328,
   "id": "6c7a3f33-26c8-481b-9d35-4f16b42a78a6",
   "metadata": {},
   "outputs": [
    {
     "name": "stdout",
     "output_type": "stream",
     "text": [
      "My name is John, I am 36\n"
     ]
    }
   ],
   "source": [
    "age = 36\n",
    "txt = f\"My name is John, I am {age}\"\n",
    "print(txt)"
   ]
  },
  {
   "cell_type": "markdown",
   "id": "72c1b885-6848-48a4-ba3a-28fe01bd40e5",
   "metadata": {},
   "source": [
    "Placeholders and Modifiers\n",
    "\n"
   ]
  },
  {
   "cell_type": "code",
   "execution_count": 331,
   "id": "3b7cef42-d385-4370-85d7-a931d317be19",
   "metadata": {},
   "outputs": [
    {
     "name": "stdout",
     "output_type": "stream",
     "text": [
      "The price is 59 dollars\n"
     ]
    }
   ],
   "source": [
    "price = 59\n",
    "txt = f\"The price is {price} dollars\"\n",
    "print(txt)"
   ]
  },
  {
   "cell_type": "code",
   "execution_count": 333,
   "id": "8f4c1e8c-da8b-43de-8dd4-1001095299b9",
   "metadata": {},
   "outputs": [
    {
     "name": "stdout",
     "output_type": "stream",
     "text": [
      "The price is 59.00 dollars\n"
     ]
    }
   ],
   "source": [
    "price = 59\n",
    "txt = f\"The price is {price:.2f} dollars\"\n",
    "print(txt)"
   ]
  },
  {
   "cell_type": "code",
   "execution_count": 335,
   "id": "3b7a4a08-e07f-497e-846a-dc1c08483267",
   "metadata": {},
   "outputs": [
    {
     "name": "stdout",
     "output_type": "stream",
     "text": [
      "The price is 1180 dollars\n"
     ]
    }
   ],
   "source": [
    "txt = f\"The price is {20 * 59} dollars\"\n",
    "print(txt)"
   ]
  },
  {
   "cell_type": "markdown",
   "id": "61cc10ce-18e4-48a2-8931-9a3364c00b08",
   "metadata": {},
   "source": [
    "Escape Characters"
   ]
  },
  {
   "cell_type": "code",
   "execution_count": 338,
   "id": "b1b2a2e9-40f8-467a-b5a4-8b552f46d826",
   "metadata": {},
   "outputs": [
    {
     "ename": "SyntaxError",
     "evalue": "invalid syntax (4013392309.py, line 1)",
     "output_type": "error",
     "traceback": [
      "\u001b[1;36m  Cell \u001b[1;32mIn[338], line 1\u001b[1;36m\u001b[0m\n\u001b[1;33m    txt = \"We are the so-called \"Vikings\" from the north.\"\u001b[0m\n\u001b[1;37m                                 ^\u001b[0m\n\u001b[1;31mSyntaxError\u001b[0m\u001b[1;31m:\u001b[0m invalid syntax\n"
     ]
    }
   ],
   "source": [
    "txt = \"We are the so-called \"Vikings\" from the north.\"\n",
    "print(txt)"
   ]
  },
  {
   "cell_type": "code",
   "execution_count": 340,
   "id": "d4acac97-2405-434e-84d2-b01e9fa14aac",
   "metadata": {},
   "outputs": [
    {
     "name": "stdout",
     "output_type": "stream",
     "text": [
      "We are the so-called \" Vikings\" from the north.\n"
     ]
    }
   ],
   "source": [
    "txt = \"We are the so-called \\\" Vikings\\\" from the north.\"\n",
    "print(txt)"
   ]
  },
  {
   "cell_type": "code",
   "execution_count": 5,
   "id": "818a5290-d65e-4e99-b716-46b07ef852f7",
   "metadata": {},
   "outputs": [
    {
     "name": "stdout",
     "output_type": "stream",
     "text": [
      "It's alright\n"
     ]
    }
   ],
   "source": [
    "#Single Quote\n",
    "txt = 'It\\'s alright'\n",
    "print(txt)"
   ]
  },
  {
   "cell_type": "code",
   "execution_count": 9,
   "id": "9e3212d6-7351-4fb9-9db6-17ed5666a417",
   "metadata": {},
   "outputs": [
    {
     "name": "stdout",
     "output_type": "stream",
     "text": [
      "This will insert one \\ (backlash).\n"
     ]
    }
   ],
   "source": [
    "#Backslash\n",
    "txt = \"This will insert one \\\\ (backlash).\"\n",
    "print(txt)"
   ]
  },
  {
   "cell_type": "code",
   "execution_count": 13,
   "id": "8d377aa4-79a2-4f12-89cb-dde3cc33c6fe",
   "metadata": {},
   "outputs": [
    {
     "name": "stdout",
     "output_type": "stream",
     "text": [
      "Hello\n",
      "World!\n"
     ]
    }
   ],
   "source": [
    "#New Line\n",
    "txt = \"Hello\\nWorld!\"\n",
    "print(txt)"
   ]
  },
  {
   "cell_type": "code",
   "execution_count": 17,
   "id": "fcbc2ee4-e003-4025-a45f-3e35218799e1",
   "metadata": {},
   "outputs": [
    {
     "name": "stdout",
     "output_type": "stream",
     "text": [
      "Hello\n",
      "World!\n"
     ]
    }
   ],
   "source": [
    "#Carriage Return\n",
    "txt = \"Hello\\nWorld!\"\n",
    "print(txt)"
   ]
  },
  {
   "cell_type": "code",
   "execution_count": 19,
   "id": "2154b018-3bcc-4ccf-b6a2-b14e638bc64d",
   "metadata": {},
   "outputs": [
    {
     "name": "stdout",
     "output_type": "stream",
     "text": [
      "Hello\tWorld!\n"
     ]
    }
   ],
   "source": [
    "#Tab\n",
    "txt = \"Hello\\tWorld!\"\n",
    "print(txt)"
   ]
  },
  {
   "cell_type": "code",
   "execution_count": 21,
   "id": "db348091-b084-4008-bfb4-00d18d097e4b",
   "metadata": {},
   "outputs": [
    {
     "name": "stdout",
     "output_type": "stream",
     "text": [
      "HelloWorld!\n"
     ]
    }
   ],
   "source": [
    "#Backspace\n",
    "txt = \"Hello \\bWorld!\"\n",
    "print(txt)"
   ]
  },
  {
   "cell_type": "code",
   "execution_count": 23,
   "id": "8b284e59-b4ec-412a-9260-235a59e394f2",
   "metadata": {},
   "outputs": [
    {
     "name": "stdout",
     "output_type": "stream",
     "text": [
      "Hello\n"
     ]
    }
   ],
   "source": [
    "#Octal value\n",
    "txt = \"\\110\\145\\154\\154\\157\"\n",
    "print(txt)"
   ]
  },
  {
   "cell_type": "code",
   "execution_count": 25,
   "id": "4dc9c322-13c9-49f6-a200-0373046a32ca",
   "metadata": {},
   "outputs": [
    {
     "name": "stdout",
     "output_type": "stream",
     "text": [
      "Hello\n"
     ]
    }
   ],
   "source": [
    "#Hex value\n",
    "txt = \"\\x48\\x65\\x6c\\x6c\\x6f\"\n",
    "print(txt) "
   ]
  }
 ],
 "metadata": {
  "kernelspec": {
   "display_name": "Python [conda env:base] *",
   "language": "python",
   "name": "conda-base-py"
  },
  "language_info": {
   "codemirror_mode": {
    "name": "ipython",
    "version": 3
   },
   "file_extension": ".py",
   "mimetype": "text/x-python",
   "name": "python",
   "nbconvert_exporter": "python",
   "pygments_lexer": "ipython3",
   "version": "3.12.7"
  }
 },
 "nbformat": 4,
 "nbformat_minor": 5
}
